{
 "cells": [
  {
   "cell_type": "code",
   "execution_count": 2,
   "metadata": {},
   "outputs": [],
   "source": [
    "import numpy as np\n",
    "import matplotlib.pyplot as plt\n",
    "from scipy.optimize import dual_annealing\n",
    "import sys\n"
   ]
  },
  {
   "cell_type": "code",
   "execution_count": 3,
   "metadata": {},
   "outputs": [],
   "source": [
    "def create_grid(bounds: np.ndarray = np.array([[1, 10], [1, 10]]),\n",
    "                 size: np.ndarray = np.array([10,15])) -> np.ndarray:\n",
    "    \"\"\" создание прямоугольной неравномерной сетки \"\"\"\n",
    "    # a = np.zeros((np.shape(bounds)[0],1),dtype=np.ndarray)\n",
    "    a = np.array(bounds[:,0],dtype=np.ndarray)\n",
    "    for i in range(np.shape(bounds)[0]):\n",
    "        a[i] = np.linspace(bounds[i, 0], bounds[i, 1], size[i])\n",
    "    return a"
   ]
  },
  {
   "cell_type": "code",
   "execution_count": 4,
   "metadata": {},
   "outputs": [],
   "source": [
    "def grid_of_funceval(value_grid: np.ndarray,\n",
    "                      func) -> np.ndarray:\n",
    "    \"\"\" только для пространсва D=2, для любой сетки в том числе и неравномерной\"\"\"\n",
    "    idk = np.max(np.array([np.shape(value_grid[0])[0],np.shape(value_grid[1])[0]]))\n",
    "    grid = np.full((idk,idk), np.inf)\n",
    "    for i in range(np.shape(value_grid[0])[0]):\n",
    "        for k in range(np.shape(value_grid[1])[0]):\n",
    "            # grid[i,k] = func(value_grid[np.arange(0, np.shape(value_grid)[0]), qq])\n",
    "            grid[i,k] = func(np.array([(value_grid[0])[i],(value_grid[1])[k]]))\n",
    "    return grid"
   ]
  },
  {
   "cell_type": "code",
   "execution_count": 5,
   "metadata": {},
   "outputs": [],
   "source": [
    "def min_of_function(grid: np.ndarray) -> np.ndarray:\n",
    "    return [np.where(grid == np.min(grid))[0][0],\\\n",
    "            np.where(grid == np.min(grid))[1][0]],np.min(grid)"
   ]
  },
  {
   "cell_type": "code",
   "execution_count": 6,
   "metadata": {},
   "outputs": [],
   "source": [
    "def find_in_grid(value_grid: np.ndarray,\n",
    "                  solve: np.ndarray) -> np.ndarray:\n",
    "    a = np.copy(solve)\n",
    "    qq = np.random.randint(0, 1, np.shape(value_grid)[0])\n",
    "    for i in range(np.shape(value_grid)[0]):\n",
    "        hqd = np.absolute(solve[i] - (value_grid[i])[:])\n",
    "        qq[i] = np.where(hqd == np.min(hqd))[0][0]\n",
    "    return qq"
   ]
  },
  {
   "cell_type": "code",
   "execution_count": 7,
   "metadata": {},
   "outputs": [],
   "source": [
    "def start_solve(value_grid: np.ndarray) -> np.ndarray:\n",
    "    a = np.array([])\n",
    "    index1 = np.array([],dtype=int)\n",
    "    for i in range(np.shape(value_grid)[0]):\n",
    "        index = np.random.randint(np.shape(value_grid[i])[0])\n",
    "        a = np.append(a,(value_grid[i])[index])\n",
    "        index1 = np.append(index1,index)\n",
    "    return a, index1"
   ]
  },
  {
   "cell_type": "code",
   "execution_count": 8,
   "metadata": {},
   "outputs": [],
   "source": [
    "def new_point_boltzman(bounds: np.ndarray,\n",
    "                        value_grid: np.ndarray,\n",
    "                        temperature: float,\n",
    "                        index: np.ndarray) -> np.ndarray:\n",
    "    std = np.sqrt(temperature) * np.ones(np.shape(bounds)[0])\n",
    "    xc = np.random.normal(0, 1.0, size =  np.shape(bounds)[0])\n",
    "    new_solve_index = index + xc * std\n",
    "    new_solve = np.copy(new_solve_index)\n",
    "    for i in range(np.shape(bounds)[0]):\n",
    "        new_solve_index[i] = round(index[i] + xc[i] * std[i] * (np.shape((value_grid[i]))[0] - 1))\n",
    "        while  new_solve_index[i] < 0 or  new_solve_index[i] > (np.shape((value_grid[i]))[0] - 1):\n",
    "            xc[i] = np.random.normal(0, 1.0)\n",
    "            new_solve_index[i] = round(index[i] + xc[i] * std[i] * (np.shape((value_grid[i]))[0] - 1))\n",
    "    for i in range(np.shape(bounds)[0]):\n",
    "        new_solve[i] = (value_grid[i])[new_solve_index.astype(int)[i]]\n",
    "    return new_solve, new_solve_index.astype(int)"
   ]
  },
  {
   "cell_type": "code",
   "execution_count": 9,
   "metadata": {},
   "outputs": [],
   "source": [
    "def find_start_temp(bounds: np.ndarray,\n",
    "                    func) -> np.ndarray:\n",
    "    low = bounds[:,0]\n",
    "    high = bounds[:,1]\n",
    "    fmax = np.finfo(float).min\n",
    "    fmin = np.finfo(float).max\n",
    "    for _ in range(50):\n",
    "        start_solve = np.random.uniform(size = np.shape(bounds)[0]) * (high - low) + low\n",
    "        start_solve_eval = func(start_solve)\n",
    "        if start_solve_eval > fmax:\n",
    "            fmax = start_solve_eval\n",
    "        if start_solve_eval < fmin:\n",
    "            fmin = start_solve_eval\n",
    "            best_solve = start_solve\n",
    "        temp = (fmax - fmin) * 1.5 \n",
    "    return temp"
   ]
  },
  {
   "cell_type": "code",
   "execution_count": 10,
   "metadata": {},
   "outputs": [],
   "source": [
    "def simulated_anelling(func,\n",
    "                       bounds:np.ndarray,\n",
    "                       value_grid: np.ndarray,\n",
    "                       size_of_grid: np.ndarray,\n",
    "                       iter_count:int = 100,\n",
    "                       start_temp:float = 70,\n",
    "                       flag:float = 0):\n",
    "    if flag == 1:\n",
    "        start_temp = find_start_temp(bounds,func)\n",
    "        print('start temperature',start_temp)\n",
    "    grid_of_values = np.full(shape = size_of_grid, fill_value = np.NAN)\n",
    "    solve1, index1 = start_solve(value_grid)#global minimum\n",
    "    energy1 = func(solve1)#value of global minimum\n",
    "    grid_of_values[tuple(index1)] = energy1\n",
    "    t = start_temp\n",
    "    count1 = 0\n",
    "    count = 1\n",
    "    solve2, energy2, index2 = solve1, energy1, index1 #current_solve_of_alghorithm\n",
    "    for i in range(iter_count):\n",
    "        solve3, index3 = new_point_boltzman(bounds, value_grid, t,  index2)#new_solve_of_alghorithm\n",
    "        if np.isnan(grid_of_values[tuple(index3)]):\n",
    "            count +=1\n",
    "            energy3 = func(solve3)\n",
    "            grid_of_values[tuple(index3)] = energy3\n",
    "        else:\n",
    "            count1 +=1\n",
    "            energy3 = grid_of_values[tuple(index3)]\n",
    "        diff =  energy3 - energy2\n",
    "        metropolis = np.exp(-diff / t)\n",
    "        if energy3 < energy1:#difference w global_min and new_solve_of_alghorithm\n",
    "            solve1, energy1, index1 = solve3, energy3, index3\n",
    "            solve2, energy2, index2 = solve3, energy3, index3\n",
    "        else:\n",
    "            while(1):\n",
    "                if energy3 < energy1:\n",
    "                    solve1, energy1, index1 = solve3, energy3, index3\n",
    "                    solve2, energy2, index2 = solve3, energy3, index3\n",
    "                    break\n",
    "                if np.random.uniform(0.0, 1.0) < metropolis:\n",
    "                    solve2, energy2, index2 = solve3, energy3, index3\n",
    "                    # print('loool')\n",
    "                    break\n",
    "                solve3, index3 = new_point_boltzman(bounds, value_grid, t,  index2)\n",
    "                if np.isnan(grid_of_values[tuple(index3)]):\n",
    "                    count +=1\n",
    "                    energy3 = func(solve3)\n",
    "                    grid_of_values[tuple(index3)] = energy3\n",
    "                else:\n",
    "                    count1 +=1\n",
    "                    energy3 = grid_of_values[tuple(index3)]\n",
    "                energy3 = func(solve3)\n",
    "                diff =  energy3 - energy2\n",
    "                metropolis = np.exp(-diff / t)  \n",
    "        t = start_temp / np.log((i + 2) + 1)\n",
    "    return [solve1, energy1, index1, count, count1]"
   ]
  },
  {
   "cell_type": "code",
   "execution_count": 11,
   "metadata": {},
   "outputs": [],
   "source": [
    "def func2(x: np.ndarray):\n",
    "    return -np.sin(0.5 * (x[0]**2) + - 0.25 * (x[1]**2) + 3) * np.cos(2*x[2] + 1 - np.exp(x[3]))"
   ]
  },
  {
   "cell_type": "code",
   "execution_count": 12,
   "metadata": {},
   "outputs": [],
   "source": [
    "def try_function_anydemension_butwithout_exact_solution(\n",
    "                it: int,\n",
    "                temp: float,\n",
    "                func,\n",
    "                size_of_grid: float = np.array([1000,1000,1000,1000]),\n",
    "                bounds: np.ndarray = np.array([[1, 10], [1, 10],[1, 10],[1, 10]])):\n",
    "    zxc = create_grid(bounds, size_of_grid)\n",
    "    ok, ok1, ok2, count, count1 = simulated_anelling(func, bounds, zxc, size_of_grid, it, temp)\n",
    "    print(f'amount of points evalved:{count}')\n",
    "    print(f'amount of saved computations:{count1}')\n",
    "    print(f'numeric point:{ok}')\n",
    "    print(f'numeric solution:{ok1}')\n",
    "    print(f'numeric index in grid:{ok2}')"
   ]
  },
  {
   "cell_type": "code",
   "execution_count": 13,
   "metadata": {},
   "outputs": [
    {
     "name": "stdout",
     "output_type": "stream",
     "text": [
      "amount of points evalved:357\n",
      "amount of saved computations:0\n",
      "numeric point:[3.81818182 5.90909091 6.45454545 3.        ]\n",
      "numeric solution:-0.9942499295722673\n",
      "numeric index in grid:[31 54 60 22]\n"
     ]
    }
   ],
   "source": [
    "try_function_anydemension_butwithout_exact_solution(\n",
    "            it=100,\n",
    "             temp=1,\n",
    "             func=func2,\n",
    "             size_of_grid=np.array([100,100,100,100]),\n",
    "             bounds=np.array([[1, 10], [1, 10],[1, 10],[1, 10]]))"
   ]
  },
  {
   "cell_type": "code",
   "execution_count": 14,
   "metadata": {},
   "outputs": [],
   "source": [
    "def func_3d(x: np.ndarray):\n",
    "    return x[1]*np.sin(2*np.pi*x[0])+x[0]*np.cos(2*np.pi*x[1])"
   ]
  },
  {
   "cell_type": "code",
   "execution_count": 15,
   "metadata": {},
   "outputs": [],
   "source": [
    "def try_function_2d_demension(\n",
    "                it: int,\n",
    "                temp: float,\n",
    "                func,\n",
    "                size_of_grid: float = np.array([1000,1000]),\n",
    "                bounds: np.ndarray = np.array([[1, 10], [1, 10]])):\n",
    "    zxc = create_grid(bounds, size_of_grid)\n",
    "    grid = grid_of_funceval(zxc, func)\n",
    "    global point, point_eval\n",
    "    point, point_eval = min_of_function(grid)\n",
    "    print(f'exact index in grid:{point}')\n",
    "    print(f'exact point:{[(zxc[0])[point[0]],(zxc[1])[point[1]]]}')\n",
    "    print(f'exact solution:{point_eval}')\n",
    "    ok, ok1, ok2, count, count1 = simulated_anelling(func, bounds, zxc, size_of_grid, it, temp)\n",
    "    print(f'amount of points evalved:{count}')\n",
    "    print(f'amount of saved computations:{count1}')\n",
    "    print(f'numeric point:{ok}')\n",
    "    print(f'numeric solution:{ok1}')\n",
    "    print(f'numeric index in grid:{ok2}')\n",
    "    print(f'definition with exact solution:{(ok1 - point_eval):.10f}')"
   ]
  },
  {
   "cell_type": "code",
   "execution_count": 16,
   "metadata": {},
   "outputs": [],
   "source": [
    "def try_function_2d_demension_withnumericmethod(\n",
    "                it: int,\n",
    "                temp: float,\n",
    "                func,\n",
    "                size_of_grid: float = np.array([1000,1000]),\n",
    "                bounds: np.ndarray = np.array([[1, 10], [1, 10]])):\n",
    "    zxc = create_grid(bounds, size_of_grid)\n",
    "    ret = dual_annealing(func,bounds=bounds)\n",
    "    print(f'point with other numeric method(dual_anneling):{ret.x}')\n",
    "    print(f'solution with other numeric method(dual_anneling):{ret.fun}')\n",
    "    ok, ok1, ok2, count, count1 = simulated_anelling(func, bounds, zxc, size_of_grid, it, temp)\n",
    "    print(f'amount of points evalved:{count}')\n",
    "    print(f'amount of saved computations:{count1}')\n",
    "    print(f'numeric point:{ok}')\n",
    "    print(f'numeric solution:{ok1}')\n",
    "    print(f'numeric index in grid:{ok2}')\n",
    "    print(f'definition with exact solution:{(ok1 - ret.fun):.10f}')"
   ]
  },
  {
   "cell_type": "code",
   "execution_count": 18,
   "metadata": {},
   "outputs": [
    {
     "name": "stdout",
     "output_type": "stream",
     "text": [
      "point with other numeric method(dual_anneling):[9.75266538 9.50259702]\n",
      "solution with other numeric method(dual_anneling):-19.25263150357248\n",
      "amount of points evalved:9998\n",
      "amount of saved computations:1498450\n",
      "numeric point:[9.72727273 9.54545455]\n",
      "numeric solution:-18.78154541584084\n",
      "numeric index in grid:[96 94]\n",
      "definition with exact solution:0.4710860877\n"
     ]
    }
   ],
   "source": [
    "try_function_2d_demension_withnumericmethod(\n",
    "            it=1000,\n",
    "             temp=1,\n",
    "             func=func_3d,\n",
    "             size_of_grid=np.array([100,100]),\n",
    "             bounds=np.array([[1, 10], [1, 10]]))"
   ]
  },
  {
   "cell_type": "code",
   "execution_count": 20,
   "metadata": {},
   "outputs": [
    {
     "name": "stdout",
     "output_type": "stream",
     "text": [
      "exact index in grid:[4, 99]\n",
      "exact point:[-9.191919191919192, 10.0]\n",
      "exact solution:-18.53339779457024\n",
      "amount of points evalved:10000\n",
      "amount of saved computations:302620\n",
      "numeric point:[-9.19191919 10.        ]\n",
      "numeric solution:-18.53339779457024\n",
      "numeric index in grid:[ 4 99]\n",
      "definition with exact solution:0.0000000000\n"
     ]
    }
   ],
   "source": [
    "try_function_2d_demension(\n",
    "            it=100,\n",
    "             temp=1,\n",
    "             func=func_3d,\n",
    "             size_of_grid=np.array([100,100]),\n",
    "             bounds=np.array([[-10, 10], [-5, 10]]))"
   ]
  },
  {
   "cell_type": "code",
   "execution_count": 29,
   "metadata": {},
   "outputs": [],
   "source": [
    "def try_function_anydemension_with_exact_solution(\n",
    "                it: int,\n",
    "                temp: float,\n",
    "                func,\n",
    "                size_of_grid: float = np.array([1000,1000]),\n",
    "                bounds: np.ndarray = np.array([[1, 10], [1, 10]])):\n",
    "    zxc = create_grid(bounds, size_of_grid)\n",
    "    ret = dual_annealing(func,bounds=bounds)\n",
    "    print(f'point with other numeric method(dual_anneling):{ret.x}')\n",
    "    print(f'solution with other numeric method(dual_anneling):{ret.fun}')\n",
    "    ok, ok1, ok2, count, count1 = simulated_anelling(func, bounds, zxc, size_of_grid, it, temp)\n",
    "    print(f'amount of points evalved:{count}')\n",
    "    print(f'amount of saved computations:{count1}')\n",
    "    print(f'numeric point:{ok}')\n",
    "    print(f'numeric solution:{ok1}')\n",
    "    print(f'numeric index in grid:{ok2}')\n",
    "    print(f'definition with exact solution:{(ok1 - ret.fun):.10f}')"
   ]
  },
  {
   "cell_type": "code",
   "execution_count": 31,
   "metadata": {},
   "outputs": [
    {
     "name": "stdout",
     "output_type": "stream",
     "text": [
      "point with other numeric method(dual_anneling):[7.88189169 9.60552636 7.05500055 6.59923726]\n",
      "solution with other numeric method(dual_anneling):-0.9999999999945272\n",
      "amount of points evalved:415\n",
      "amount of saved computations:0\n",
      "numeric point:[9.55555556 9.35353535 9.11111111 6.66666667]\n",
      "numeric solution:-0.9969097720194144\n",
      "numeric index in grid:[88 35 77 44]\n",
      "definition with exact solution:0.0030902280\n"
     ]
    }
   ],
   "source": [
    "try_function_anydemension_with_exact_solution(\n",
    "            it=100,\n",
    "             temp=1,\n",
    "             func=func2,\n",
    "             size_of_grid=np.array([100,100,100,100]),\n",
    "             bounds=np.array([[6, 10], [9, 10],[6, 10],[4, 10]]))"
   ]
  },
  {
   "cell_type": "code",
   "execution_count": 32,
   "metadata": {},
   "outputs": [
    {
     "name": "stdout",
     "output_type": "stream",
     "text": [
      "point with other numeric method(dual_anneling):[  5.08692704   6.70105105 -47.58841275   7.90979491]\n",
      "solution with other numeric method(dual_anneling):-0.9999999999918127\n",
      "amount of points evalved:331\n",
      "amount of saved computations:0\n",
      "numeric point:[  7.97979798 -95.55555556 -28.78787879 -18.78787879]\n",
      "numeric solution:-0.9973284091915521\n",
      "numeric index in grid:[89  4 35 42]\n",
      "definition with exact solution:0.0026715908\n"
     ]
    }
   ],
   "source": [
    "try_function_anydemension_with_exact_solution(\n",
    "            it=100,\n",
    "             temp=1,\n",
    "             func=func2,\n",
    "             size_of_grid=np.array([100,100,100,100]),\n",
    "             bounds=np.array([[-10, 10], [-100, 10],[-50, 10],[-40, 10]]))"
   ]
  },
  {
   "cell_type": "code",
   "execution_count": null,
   "metadata": {},
   "outputs": [],
   "source": []
  }
 ],
 "metadata": {
  "kernelspec": {
   "display_name": "Python 3",
   "language": "python",
   "name": "python3"
  },
  "language_info": {
   "codemirror_mode": {
    "name": "ipython",
    "version": 3
   },
   "file_extension": ".py",
   "mimetype": "text/x-python",
   "name": "python",
   "nbconvert_exporter": "python",
   "pygments_lexer": "ipython3",
   "version": "3.11.4"
  },
  "orig_nbformat": 4
 },
 "nbformat": 4,
 "nbformat_minor": 2
}
