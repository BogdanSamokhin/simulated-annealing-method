{
 "cells": [
  {
   "cell_type": "code",
   "execution_count": 32,
   "metadata": {},
   "outputs": [],
   "source": [
    "import numpy as np\n",
    "import matplotlib.pyplot as plt\n",
    "from scipy.optimize import dual_annealing\n",
    "import sys\n"
   ]
  },
  {
   "cell_type": "code",
   "execution_count": 33,
   "metadata": {},
   "outputs": [],
   "source": [
    "def create_grid(bounds: np.ndarray = np.array([[1, 10], [1, 10]]),\n",
    "                 size: np.ndarray = np.array([10,15])) -> np.ndarray:\n",
    "    \"\"\" создание прямоугольной неравномерной сетки \"\"\"\n",
    "    # a = np.zeros((np.shape(bounds)[0],1),dtype=np.ndarray)\n",
    "    a = np.array(bounds[:,0],dtype=np.ndarray)\n",
    "    for i in range(np.shape(bounds)[0]):\n",
    "        a[i] = np.linspace(bounds[i, 0], bounds[i, 1], size[i])\n",
    "    return a"
   ]
  },
  {
   "cell_type": "code",
   "execution_count": 34,
   "metadata": {},
   "outputs": [],
   "source": [
    "def grid_of_funceval(value_grid: np.ndarray,\n",
    "                      func) -> np.ndarray:\n",
    "    \"\"\" только для пространсва D=2, для любой сетки в том числе и неравномерной\"\"\"\n",
    "    idk = np.max(np.array([np.shape(value_grid[0])[0],np.shape(value_grid[1])[0]]))\n",
    "    grid = np.full((idk,idk), np.inf)\n",
    "    for i in range(np.shape(value_grid[0])[0]):\n",
    "        for k in range(np.shape(value_grid[1])[0]):\n",
    "            # grid[i,k] = func(value_grid[np.arange(0, np.shape(value_grid)[0]), qq])\n",
    "            grid[i,k] = func(np.array([(value_grid[0])[i],(value_grid[1])[k]]))\n",
    "    return grid"
   ]
  },
  {
   "cell_type": "code",
   "execution_count": 35,
   "metadata": {},
   "outputs": [],
   "source": [
    "def min_of_function(grid: np.ndarray) -> np.ndarray:\n",
    "    return [np.where(grid == np.min(grid))[0][0],\\\n",
    "            np.where(grid == np.min(grid))[1][0]],np.min(grid)"
   ]
  },
  {
   "cell_type": "code",
   "execution_count": 36,
   "metadata": {},
   "outputs": [],
   "source": [
    "def find_in_grid(value_grid: np.ndarray,\n",
    "                  solve: np.ndarray) -> np.ndarray:\n",
    "    a = np.copy(solve)\n",
    "    qq = np.random.randint(0, 1, np.shape(value_grid)[0])\n",
    "    for i in range(np.shape(value_grid)[0]):\n",
    "        hqd = np.absolute(solve[i] - (value_grid[i])[:])\n",
    "        qq[i] = np.where(hqd == np.min(hqd))[0][0]\n",
    "    return qq"
   ]
  },
  {
   "cell_type": "code",
   "execution_count": 37,
   "metadata": {},
   "outputs": [],
   "source": [
    "def start_solve(value_grid: np.ndarray) -> np.ndarray:\n",
    "    a = np.array([])\n",
    "    index1 = np.array([],dtype=int)\n",
    "    for i in range(np.shape(value_grid)[0]):\n",
    "        index = np.random.randint(np.shape(value_grid[i])[0])\n",
    "        a = np.append(a,(value_grid[i])[index])\n",
    "        index1 = np.append(index1,index)\n",
    "    return a, index1"
   ]
  },
  {
   "cell_type": "code",
   "execution_count": 38,
   "metadata": {},
   "outputs": [],
   "source": [
    "def new_point_boltzman(bounds: np.ndarray,\n",
    "                        value_grid: np.ndarray,\n",
    "                        temperature: float,\n",
    "                        index: np.ndarray) -> np.ndarray:\n",
    "    std = np.sqrt(temperature) * np.ones(np.shape(bounds)[0])\n",
    "    xc = np.random.normal(0, 1.0, size =  np.shape(bounds)[0])\n",
    "    new_solve_index = index + xc * std\n",
    "    new_solve = np.copy(new_solve_index)\n",
    "    for i in range(np.shape(bounds)[0]):\n",
    "        new_solve_index[i] = round(index[i] + xc[i] * std[i] * (np.shape((value_grid[i]))[0] - 1))\n",
    "        while  new_solve_index[i] < 0 or  new_solve_index[i] > (np.shape((value_grid[i]))[0] - 1):\n",
    "            xc[i] = np.random.normal(0, 1.0)\n",
    "            new_solve_index[i] = round(index[i] + xc[i] * std[i] * (np.shape((value_grid[i]))[0] - 1))\n",
    "    for i in range(np.shape(bounds)[0]):\n",
    "        new_solve[i] = (value_grid[i])[new_solve_index.astype(int)[i]]\n",
    "    return new_solve, new_solve_index.astype(int)"
   ]
  },
  {
   "cell_type": "code",
   "execution_count": 39,
   "metadata": {},
   "outputs": [],
   "source": [
    "def find_start_temp(bounds: np.ndarray,\n",
    "                    func) -> np.ndarray:\n",
    "    low = bounds[:,0]\n",
    "    high = bounds[:,1]\n",
    "    fmax = np.finfo(float).min\n",
    "    fmin = np.finfo(float).max\n",
    "    for _ in range(50):\n",
    "        start_solve = np.random.uniform(size = np.shape(bounds)[0]) * (high - low) + low\n",
    "        start_solve_eval = func(start_solve)\n",
    "        if start_solve_eval > fmax:\n",
    "            fmax = start_solve_eval\n",
    "        if start_solve_eval < fmin:\n",
    "            fmin = start_solve_eval\n",
    "            best_solve = start_solve\n",
    "        temp = (fmax - fmin) * 1.5 \n",
    "    return temp"
   ]
  },
  {
   "cell_type": "code",
   "execution_count": 40,
   "metadata": {},
   "outputs": [],
   "source": [
    "def simulated_anelling(func,\n",
    "                       bounds:np.ndarray,\n",
    "                       value_grid: np.ndarray,\n",
    "                       size_of_grid: np.ndarray,\n",
    "                       iter_count:int = 100,\n",
    "                       start_temp:float = 70,\n",
    "                       flag:float = 0):\n",
    "    if flag == 1:\n",
    "        start_temp = find_start_temp(bounds,func)\n",
    "        print('start temperature',start_temp)\n",
    "    grid_of_values = np.full(shape = size_of_grid, fill_value = np.NAN)\n",
    "    solve1, index1 = start_solve(value_grid)#global minimum\n",
    "    energy1 = func(solve1)#value of global minimum\n",
    "    grid_of_values[tuple(index1)] = energy1\n",
    "    t = start_temp\n",
    "    count1 = 0\n",
    "    count = 1\n",
    "    solve2, energy2, index2 = solve1, energy1, index1 #current_solve_of_alghorithm\n",
    "    for i in range(iter_count):\n",
    "        solve3, index3 = new_point_boltzman(bounds, value_grid, t,  index2)#new_solve_of_alghorithm\n",
    "        if np.isnan(grid_of_values[tuple(index3)]):\n",
    "            count +=1\n",
    "            energy3 = func(solve3)\n",
    "            grid_of_values[tuple(index3)] = energy3\n",
    "        else:\n",
    "            count1 +=1\n",
    "            energy3 = grid_of_values[tuple(index3)]\n",
    "        diff =  energy3 - energy2\n",
    "        metropolis = np.exp(-diff / t)\n",
    "        if energy3 < energy1:#difference w global_min and new_solve_of_alghorithm\n",
    "            solve1, energy1, index1 = solve3, energy3, index3\n",
    "            solve2, energy2, index2 = solve3, energy3, index3\n",
    "        else:\n",
    "            while(1):\n",
    "                if energy3 < energy1:\n",
    "                    solve1, energy1, index1 = solve3, energy3, index3\n",
    "                    solve2, energy2, index2 = solve3, energy3, index3\n",
    "                    break\n",
    "                if np.random.uniform(0.0, 1.0) < metropolis:\n",
    "                    solve2, energy2, index2 = solve3, energy3, index3\n",
    "                    # print('loool')\n",
    "                    break\n",
    "                solve3, index3 = new_point_boltzman(bounds, value_grid, t,  index2)\n",
    "                if np.isnan(grid_of_values[tuple(index3)]):\n",
    "                    count +=1\n",
    "                    energy3 = func(solve3)\n",
    "                    grid_of_values[tuple(index3)] = energy3\n",
    "                else:\n",
    "                    count1 +=1\n",
    "                    energy3 = grid_of_values[tuple(index3)]\n",
    "                energy3 = func(solve3)\n",
    "                diff =  energy3 - energy2\n",
    "                metropolis = np.exp(-diff / t)  \n",
    "        t = start_temp / np.log((i + 2) + 1)\n",
    "    return [solve1, energy1, index1, count, count1]"
   ]
  },
  {
   "cell_type": "code",
   "execution_count": 41,
   "metadata": {},
   "outputs": [],
   "source": [
    "def func2(x: np.ndarray):\n",
    "    return -np.sin(0.5 * (x[0]**2) + - 0.25 * (x[1]**2) + 3) * np.cos(2*x[2] + 1 - np.exp(x[3]))"
   ]
  },
  {
   "cell_type": "code",
   "execution_count": 42,
   "metadata": {},
   "outputs": [],
   "source": [
    "def try_function_anydemension_butwithout_exact_solution(\n",
    "                it: int,\n",
    "                temp: float,\n",
    "                func,\n",
    "                size_of_grid: float = np.array([1000,1000,1000,1000]),\n",
    "                bounds: np.ndarray = np.array([[1, 10], [1, 10],[1, 10],[1, 10]])):\n",
    "    zxc = create_grid(bounds, size_of_grid)\n",
    "    ok, ok1, ok2, count, count1 = simulated_anelling(func, bounds, zxc, size_of_grid, it, temp)\n",
    "    print(f'amount of points evalved:{count}')\n",
    "    print(f'amount of saved computations:{count1}')\n",
    "    print(f'numeric point:{ok}')\n",
    "    print(f'numeric solution:{ok1}')\n",
    "    print(f'numeric index in grid:{ok2}')"
   ]
  },
  {
   "cell_type": "code",
   "execution_count": 43,
   "metadata": {},
   "outputs": [],
   "source": [
    "def func_3d(x: np.ndarray):\n",
    "    return x[1]*np.sin(2*np.pi*x[0])+x[0]*np.cos(2*np.pi*x[1])"
   ]
  },
  {
   "cell_type": "code",
   "execution_count": 44,
   "metadata": {},
   "outputs": [],
   "source": [
    "def try_function_2d_demension(\n",
    "                it: int,\n",
    "                temp: float,\n",
    "                func,\n",
    "                size_of_grid: float = np.array([1000,1000]),\n",
    "                bounds: np.ndarray = np.array([[1, 10], [1, 10]])):\n",
    "    zxc = create_grid(bounds, size_of_grid)\n",
    "    grid = grid_of_funceval(zxc, func)\n",
    "    global point, point_eval\n",
    "    point, point_eval = min_of_function(grid)\n",
    "    print(f'exact index in grid:{point}')\n",
    "    print(f'exact point:{[(zxc[0])[point[0]],(zxc[1])[point[1]]]}')\n",
    "    print(f'exact solution:{point_eval}')\n",
    "    ok, ok1, ok2, count, count1 = simulated_anelling(func, bounds, zxc, size_of_grid, it, temp)\n",
    "    print(f'amount of points evalved:{count}')\n",
    "    print(f'amount of saved computations:{count1}')\n",
    "    print(f'numeric point:{ok}')\n",
    "    print(f'numeric solution:{ok1}')\n",
    "    print(f'numeric index in grid:{ok2}')\n",
    "    print(f'definition with exact solution:{(ok1 - point_eval):.10f}')"
   ]
  },
  {
   "cell_type": "code",
   "execution_count": 45,
   "metadata": {},
   "outputs": [],
   "source": [
    "def try_function_2d_demension_withnumericmethod(\n",
    "                it: int,\n",
    "                temp: float,\n",
    "                func,\n",
    "                size_of_grid: float = np.array([1000,1000]),\n",
    "                bounds: np.ndarray = np.array([[1, 10], [1, 10]])):\n",
    "    zxc = create_grid(bounds, size_of_grid)\n",
    "    ret = dual_annealing(func,bounds=bounds)\n",
    "    print(f'point with other numeric method(dual_anneling):{ret.x}')\n",
    "    print(f'solution with other numeric method(dual_anneling):{ret.fun}')\n",
    "    ok, ok1, ok2, count, count1 = simulated_anelling(func, bounds, zxc, size_of_grid, it, temp)\n",
    "    print(f'amount of points evalved:{count}')\n",
    "    print(f'amount of saved computations:{count1}')\n",
    "    print(f'numeric point:{ok}')\n",
    "    print(f'numeric solution:{ok1}')\n",
    "    print(f'numeric index in grid:{ok2}')\n",
    "    print(f'definition with exact solution:{(ok1 - ret.fun):.10f}')"
   ]
  },
  {
   "cell_type": "code",
   "execution_count": 46,
   "metadata": {},
   "outputs": [],
   "source": [
    "def try_function_anydemension_with_exact_solution(\n",
    "                it: int,\n",
    "                temp: float,\n",
    "                func,\n",
    "                size_of_grid: float = np.array([1000,1000]),\n",
    "                bounds: np.ndarray = np.array([[1, 10], [1, 10]])):\n",
    "    zxc = create_grid(bounds, size_of_grid)\n",
    "    ret = dual_annealing(func,bounds=bounds)\n",
    "    print(f'point with other numeric method(dual_anneling):{ret.x}')\n",
    "    print(f'solution with other numeric method(dual_anneling):{ret.fun}')\n",
    "    ok, ok1, ok2, count, count1 = simulated_anelling(func, bounds, zxc, size_of_grid, it, temp)\n",
    "    print(f'amount of points evalved:{count}')\n",
    "    print(f'amount of saved computations:{count1}')\n",
    "    print(f'numeric point:{ok}')\n",
    "    print(f'numeric solution:{ok1}')\n",
    "    print(f'numeric index in grid:{ok2}')\n",
    "    print(f'definition with exact solution:{(ok1 - ret.fun):.10f}')"
   ]
  },
  {
   "cell_type": "code",
   "execution_count": 47,
   "metadata": {},
   "outputs": [],
   "source": [
    "def try_function_2d_demension_100tests(it: int,\n",
    "                                       temp: float,\n",
    "                                       func,\n",
    "                                       size_of_grid: np.ndarray = np.array([200,100]), \n",
    "                                       bounds: np.ndarray = np.array([[1, 10], [1, 10]]), \n",
    "                                       flag:float = 0):\n",
    "    zxc = create_grid(bounds, size_of_grid)\n",
    "    grid = grid_of_funceval(zxc, func)\n",
    "    global point, point_eval\n",
    "    point, point_eval = min_of_function(grid)\n",
    "    print('exact index in grid', point)\n",
    "    print('exact point',[(zxc[0])[point[0]],(zxc[1])[point[1]]])\n",
    "    print('exact solution:', point_eval)\n",
    "    # print(np.min(zxc1))\n",
    "    count = 0\n",
    "    for i in range(100):\n",
    "        ok,ok1,ok2,ok3,ok4 = simulated_anelling(func, bounds, zxc, size_of_grid, it, temp)\n",
    "        print(f\"numeric index:{find_in_grid(zxc,ok)[0]}~{find_in_grid(zxc,ok)[1]} exact:{point[0]}~{point[1]}\")\n",
    "        if find_in_grid(zxc,ok)[0] - point[0] == 0 and find_in_grid(zxc,ok)[1] - point[1] == 0:\n",
    "            count += 1 \n",
    "    print('count of exact solutions',count)\n"
   ]
  },
  {
   "cell_type": "code",
   "execution_count": 60,
   "metadata": {},
   "outputs": [
    {
     "name": "stdout",
     "output_type": "stream",
     "text": [
      "amount of points evalved:321\n",
      "amount of saved computations:0\n",
      "numeric point:[7.90909091 7.45454545 4.18181818 6.81818182]\n",
      "numeric solution:-0.9834226690843296\n",
      "numeric index in grid:[76 71 35 64]\n"
     ]
    }
   ],
   "source": [
    "try_function_anydemension_butwithout_exact_solution(\n",
    "            it=100,\n",
    "             temp=1,\n",
    "             func=func2,\n",
    "             size_of_grid=np.array([100,100,100,100]),\n",
    "             bounds=np.array([[1, 10], [1, 10],[1, 10],[1, 10]]))"
   ]
  },
  {
   "cell_type": "code",
   "execution_count": 63,
   "metadata": {},
   "outputs": [
    {
     "name": "stdout",
     "output_type": "stream",
     "text": [
      "point with other numeric method(dual_anneling):[9.75266538 9.50259702]\n",
      "solution with other numeric method(dual_anneling):-19.252631503572495\n",
      "amount of points evalved:9999\n",
      "amount of saved computations:1554955\n",
      "numeric point:[9.72727273 9.54545455]\n",
      "numeric solution:-18.78154541584084\n",
      "numeric index in grid:[96 94]\n",
      "definition with exact solution:0.4710860877\n"
     ]
    }
   ],
   "source": [
    "try_function_2d_demension_withnumericmethod(\n",
    "            it=1000,\n",
    "             temp=1,\n",
    "             func=func_3d,\n",
    "             size_of_grid=np.array([100,100]),\n",
    "             bounds=np.array([[1, 10], [1, 10]]))"
   ]
  },
  {
   "cell_type": "code",
   "execution_count": 81,
   "metadata": {},
   "outputs": [
    {
     "name": "stdout",
     "output_type": "stream",
     "text": [
      "exact index in grid:[987, 966]\n",
      "exact point:[9.75975975975976, 9.504504504504505]\n",
      "exact solution:-19.24249061752336\n",
      "amount of points evalved:442026\n",
      "amount of saved computations:223904\n",
      "numeric point:[9.75975976 9.5045045 ]\n",
      "numeric solution:-19.24249061752336\n",
      "numeric index in grid:[987 966]\n",
      "definition with exact solution:0.0000000000\n"
     ]
    }
   ],
   "source": [
    "try_function_2d_demension(\n",
    "            it=100,\n",
    "             temp=1,\n",
    "             func=func_3d,\n",
    "             size_of_grid=np.array([1000,1000]),\n",
    "             bounds=np.array([[-10, 10], [-5, 10]]))"
   ]
  },
  {
   "cell_type": "code",
   "execution_count": 82,
   "metadata": {},
   "outputs": [
    {
     "name": "stdout",
     "output_type": "stream",
     "text": [
      "exact index in grid:[987, 966]\n",
      "exact point:[9.75975975975976, 9.504504504504505]\n",
      "exact solution:-19.24249061752336\n",
      "amount of points evalved:2822\n",
      "amount of saved computations:11\n",
      "numeric point:[-8.21821822  9.02402402]\n",
      "numeric solution:-16.96946753990353\n",
      "numeric index in grid:[ 89 934]\n",
      "definition with exact solution:2.2730230776\n"
     ]
    }
   ],
   "source": [
    "try_function_2d_demension(\n",
    "            it=100,\n",
    "             temp=5,\n",
    "             func=func_3d,\n",
    "             size_of_grid=np.array([1000,1000]),\n",
    "             bounds=np.array([[-10, 10], [-5, 10]]))"
   ]
  },
  {
   "cell_type": "code",
   "execution_count": 83,
   "metadata": {},
   "outputs": [
    {
     "name": "stdout",
     "output_type": "stream",
     "text": [
      "exact index in grid:[987, 966]\n",
      "exact point:[9.75975975975976, 9.504504504504505]\n",
      "exact solution:-19.24249061752336\n",
      "amount of points evalved:660929\n",
      "amount of saved computations:1105482\n",
      "numeric point:[9.75975976 9.5045045 ]\n",
      "numeric solution:-19.24249061752336\n",
      "numeric index in grid:[987 966]\n",
      "definition with exact solution:0.0000000000\n"
     ]
    }
   ],
   "source": [
    "try_function_2d_demension(\n",
    "            it=100,\n",
    "             temp=0.5,\n",
    "             func=func_3d,\n",
    "             size_of_grid=np.array([1000,1000]),\n",
    "             bounds=np.array([[-10, 10], [-5, 10]]))"
   ]
  },
  {
   "cell_type": "code",
   "execution_count": 69,
   "metadata": {},
   "outputs": [
    {
     "name": "stdout",
     "output_type": "stream",
     "text": [
      "exact index in grid:[4, 99]\n",
      "exact point:[-9.191919191919192, 10.0]\n",
      "exact solution:-18.53339779457024\n",
      "amount of points evalved:10000\n",
      "amount of saved computations:2457876\n",
      "numeric point:[-9.19191919 10.        ]\n",
      "numeric solution:-18.53339779457024\n",
      "numeric index in grid:[ 4 99]\n",
      "definition with exact solution:0.0000000000\n"
     ]
    }
   ],
   "source": [
    "try_function_2d_demension(\n",
    "            it=1000,\n",
    "             temp=1,\n",
    "             func=func_3d,\n",
    "             size_of_grid=np.array([100,100]),\n",
    "             bounds=np.array([[-10, 10], [-5, 10]]))"
   ]
  },
  {
   "cell_type": "code",
   "execution_count": 70,
   "metadata": {},
   "outputs": [
    {
     "name": "stdout",
     "output_type": "stream",
     "text": [
      "exact index in grid:[4, 99]\n",
      "exact point:[-9.191919191919192, 10.0]\n",
      "exact solution:-18.53339779457024\n",
      "amount of points evalved:10000\n",
      "amount of saved computations:20436963\n",
      "numeric point:[-9.19191919 10.        ]\n",
      "numeric solution:-18.53339779457024\n",
      "numeric index in grid:[ 4 99]\n",
      "definition with exact solution:0.0000000000\n"
     ]
    }
   ],
   "source": [
    "try_function_2d_demension(\n",
    "            it=10000,\n",
    "             temp=1,\n",
    "             func=func_3d,\n",
    "             size_of_grid=np.array([100,100]),\n",
    "             bounds=np.array([[-10, 10], [-5, 10]]))"
   ]
  },
  {
   "cell_type": "code",
   "execution_count": 61,
   "metadata": {},
   "outputs": [
    {
     "name": "stdout",
     "output_type": "stream",
     "text": [
      "point with other numeric method(dual_anneling):[7.8574855  9.56545793 8.30811115 9.78212228]\n",
      "solution with other numeric method(dual_anneling):-0.999999997874172\n",
      "amount of points evalved:460\n",
      "amount of saved computations:0\n",
      "numeric point:[6.72727273 9.13131313 7.85858586 8.78787879]\n",
      "numeric solution:-0.9958877101296577\n",
      "numeric index in grid:[18 13 46 79]\n",
      "definition with exact solution:0.0041122877\n"
     ]
    }
   ],
   "source": [
    "try_function_anydemension_with_exact_solution(\n",
    "            it=100,\n",
    "             temp=1,\n",
    "             func=func2,\n",
    "             size_of_grid=np.array([100,100,100,100]),\n",
    "             bounds=np.array([[6, 10], [9, 10],[6, 10],[4, 10]]))"
   ]
  },
  {
   "cell_type": "code",
   "execution_count": 57,
   "metadata": {},
   "outputs": [
    {
     "name": "stdout",
     "output_type": "stream",
     "text": [
      "point with other numeric method(dual_anneling):[ -8.24907603 -34.60327235  -9.92071444  -4.81256716]\n",
      "solution with other numeric method(dual_anneling):-0.9999999999999936\n",
      "amount of points evalved:4372\n",
      "amount of saved computations:2461\n",
      "numeric point:[  5.35353535 -74.44444444 -28.78787879 -15.75757576]\n",
      "numeric solution:-0.9996330880458857\n",
      "numeric index in grid:[76 23 35 48]\n",
      "definition with exact solution:0.0003669120\n"
     ]
    }
   ],
   "source": [
    "try_function_anydemension_with_exact_solution(\n",
    "            it=100,\n",
    "             temp=0.001,\n",
    "             func=func2,\n",
    "             size_of_grid=np.array([100,100,100,100]),\n",
    "             bounds=np.array([[-10, 10], [-100, 10],[-50, 10],[-40, 10]]))"
   ]
  },
  {
   "cell_type": "code",
   "execution_count": 75,
   "metadata": {},
   "outputs": [
    {
     "name": "stdout",
     "output_type": "stream",
     "text": [
      "exact index in grid [4, 99]\n",
      "exact point [-9.191919191919192, 10.0]\n",
      "exact solution: -18.53339779457024\n",
      "numeric index:98~89 exact:4~99\n",
      "numeric index:98~96 exact:4~99\n",
      "numeric index:4~99 exact:4~99\n",
      "numeric index:98~96 exact:4~99\n",
      "numeric index:98~96 exact:4~99\n",
      "numeric index:98~96 exact:4~99\n",
      "numeric index:4~99 exact:4~99\n",
      "numeric index:4~99 exact:4~99\n",
      "numeric index:4~99 exact:4~99\n",
      "numeric index:4~99 exact:4~99\n",
      "numeric index:4~99 exact:4~99\n",
      "numeric index:4~99 exact:4~99\n",
      "numeric index:93~96 exact:4~99\n",
      "numeric index:4~99 exact:4~99\n",
      "numeric index:4~99 exact:4~99\n",
      "numeric index:4~99 exact:4~99\n",
      "numeric index:88~96 exact:4~99\n",
      "numeric index:98~96 exact:4~99\n",
      "numeric index:4~99 exact:4~99\n",
      "numeric index:4~99 exact:4~99\n",
      "numeric index:98~89 exact:4~99\n",
      "numeric index:98~89 exact:4~99\n",
      "numeric index:4~99 exact:4~99\n",
      "numeric index:98~89 exact:4~99\n",
      "numeric index:98~96 exact:4~99\n",
      "numeric index:98~96 exact:4~99\n",
      "numeric index:4~99 exact:4~99\n",
      "numeric index:4~99 exact:4~99\n",
      "numeric index:4~99 exact:4~99\n",
      "numeric index:98~96 exact:4~99\n",
      "numeric index:98~89 exact:4~99\n",
      "numeric index:93~89 exact:4~99\n",
      "numeric index:98~89 exact:4~99\n",
      "numeric index:4~99 exact:4~99\n",
      "numeric index:98~89 exact:4~99\n",
      "numeric index:98~89 exact:4~99\n",
      "numeric index:4~99 exact:4~99\n",
      "numeric index:4~99 exact:4~99\n",
      "numeric index:4~99 exact:4~99\n",
      "numeric index:4~99 exact:4~99\n",
      "numeric index:4~99 exact:4~99\n",
      "numeric index:4~99 exact:4~99\n",
      "numeric index:98~89 exact:4~99\n",
      "numeric index:4~99 exact:4~99\n",
      "numeric index:93~96 exact:4~99\n",
      "numeric index:4~99 exact:4~99\n",
      "numeric index:4~99 exact:4~99\n",
      "numeric index:93~96 exact:4~99\n",
      "numeric index:98~95 exact:4~99\n",
      "numeric index:4~99 exact:4~99\n",
      "numeric index:4~99 exact:4~99\n",
      "numeric index:4~99 exact:4~99\n",
      "numeric index:4~99 exact:4~99\n",
      "numeric index:98~95 exact:4~99\n",
      "numeric index:98~89 exact:4~99\n",
      "numeric index:4~99 exact:4~99\n",
      "numeric index:4~93 exact:4~99\n",
      "numeric index:98~96 exact:4~99\n",
      "numeric index:98~96 exact:4~99\n",
      "numeric index:4~99 exact:4~99\n",
      "numeric index:98~96 exact:4~99\n",
      "numeric index:98~96 exact:4~99\n",
      "numeric index:4~99 exact:4~99\n",
      "numeric index:4~99 exact:4~99\n",
      "numeric index:98~89 exact:4~99\n",
      "numeric index:4~99 exact:4~99\n",
      "numeric index:4~99 exact:4~99\n",
      "numeric index:93~96 exact:4~99\n",
      "numeric index:4~79 exact:4~99\n",
      "numeric index:98~96 exact:4~99\n",
      "numeric index:4~99 exact:4~99\n",
      "numeric index:93~89 exact:4~99\n",
      "numeric index:4~99 exact:4~99\n",
      "numeric index:93~96 exact:4~99\n",
      "numeric index:98~89 exact:4~99\n",
      "numeric index:4~99 exact:4~99\n",
      "numeric index:98~89 exact:4~99\n",
      "numeric index:98~96 exact:4~99\n",
      "numeric index:93~96 exact:4~99\n",
      "numeric index:4~99 exact:4~99\n",
      "numeric index:93~89 exact:4~99\n",
      "numeric index:98~96 exact:4~99\n",
      "numeric index:93~89 exact:4~99\n",
      "numeric index:98~96 exact:4~99\n",
      "numeric index:4~99 exact:4~99\n",
      "numeric index:98~89 exact:4~99\n",
      "numeric index:4~99 exact:4~99\n",
      "numeric index:4~99 exact:4~99\n",
      "numeric index:4~99 exact:4~99\n",
      "numeric index:98~89 exact:4~99\n",
      "numeric index:98~89 exact:4~99\n",
      "numeric index:93~89 exact:4~99\n",
      "numeric index:88~96 exact:4~99\n",
      "numeric index:98~96 exact:4~99\n",
      "numeric index:98~89 exact:4~99\n",
      "numeric index:4~99 exact:4~99\n",
      "numeric index:4~99 exact:4~99\n",
      "numeric index:98~96 exact:4~99\n",
      "numeric index:4~99 exact:4~99\n",
      "numeric index:98~89 exact:4~99\n",
      "count of exact solutions 47\n"
     ]
    }
   ],
   "source": [
    "try_function_2d_demension_100tests(\n",
    "            it=100,\n",
    "            temp=5,\n",
    "            func=func_3d,\n",
    "            size_of_grid = np.array([100,100]), \n",
    "            bounds= np.array([[-10, 10], [-5, 10]]), \n",
    "            flag = 0)"
   ]
  },
  {
   "cell_type": "code",
   "execution_count": null,
   "metadata": {},
   "outputs": [],
   "source": []
  }
 ],
 "metadata": {
  "kernelspec": {
   "display_name": "Python 3",
   "language": "python",
   "name": "python3"
  },
  "language_info": {
   "codemirror_mode": {
    "name": "ipython",
    "version": 3
   },
   "file_extension": ".py",
   "mimetype": "text/x-python",
   "name": "python",
   "nbconvert_exporter": "python",
   "pygments_lexer": "ipython3",
   "version": "3.11.4"
  },
  "orig_nbformat": 4
 },
 "nbformat": 4,
 "nbformat_minor": 2
}
