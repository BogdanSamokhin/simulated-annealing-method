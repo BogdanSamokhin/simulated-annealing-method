{
 "cells": [
  {
   "cell_type": "code",
   "execution_count": 78,
   "metadata": {},
   "outputs": [],
   "source": [
    "import numpy as np\n",
    "import matplotlib.pyplot as plt\n",
    "from scipy.optimize import dual_annealing\n",
    "import sys\n"
   ]
  },
  {
   "cell_type": "code",
   "execution_count": 21,
   "metadata": {},
   "outputs": [],
   "source": [
    "def create_grid(bounds: np.ndarray = np.array([[1, 10], [1, 10]]),\n",
    "                 size: np.ndarray = np.array([10,15])) -> np.ndarray:\n",
    "    \"\"\" создание прямоугольной\n",
    "    неравномерной сетки \"\"\"\n",
    "    # a = np.zeros((np.shape(bounds)[0],1),dtype=np.ndarray)\n",
    "    a = np.array(bounds[:,0],dtype=np.ndarray)\n",
    "    for i in range(np.shape(bounds)[0]):\n",
    "        a[i] = np.linspace(bounds[i, 0], bounds[i, 1], size[i])\n",
    "    return a"
   ]
  },
  {
   "cell_type": "code",
   "execution_count": 22,
   "metadata": {},
   "outputs": [],
   "source": [
    "asd = create_grid(np.array([[1, 10], [1, 10],[2, 50],[3, 60]]),np.array([10,15,12,13]))"
   ]
  },
  {
   "cell_type": "code",
   "execution_count": 23,
   "metadata": {},
   "outputs": [
    {
     "data": {
      "text/plain": [
       "array([array([ 1.,  2.,  3.,  4.,  5.,  6.,  7.,  8.,  9., 10.]),\n",
       "       array([ 1.        ,  1.64285714,  2.28571429,  2.92857143,  3.57142857,\n",
       "               4.21428571,  4.85714286,  5.5       ,  6.14285714,  6.78571429,\n",
       "               7.42857143,  8.07142857,  8.71428571,  9.35714286, 10.        ]),\n",
       "       array([ 2.        ,  6.36363636, 10.72727273, 15.09090909, 19.45454545,\n",
       "              23.81818182, 28.18181818, 32.54545455, 36.90909091, 41.27272727,\n",
       "              45.63636364, 50.        ])                                      ,\n",
       "       array([ 3.  ,  7.75, 12.5 , 17.25, 22.  , 26.75, 31.5 , 36.25, 41.  ,\n",
       "              45.75, 50.5 , 55.25, 60.  ])                                  ],\n",
       "      dtype=object)"
      ]
     },
     "execution_count": 23,
     "metadata": {},
     "output_type": "execute_result"
    }
   ],
   "source": [
    "asd"
   ]
  },
  {
   "cell_type": "code",
   "execution_count": 24,
   "metadata": {},
   "outputs": [
    {
     "data": {
      "text/plain": [
       "array([array([ 1.,  2.,  3.,  4.,  5.,  6.,  7.,  8.,  9., 10.]),\n",
       "       array([ 1.        ,  1.64285714,  2.28571429,  2.92857143,  3.57142857,\n",
       "               4.21428571,  4.85714286,  5.5       ,  6.14285714,  6.78571429,\n",
       "               7.42857143,  8.07142857,  8.71428571,  9.35714286, 10.        ])],\n",
       "      dtype=object)"
      ]
     },
     "execution_count": 24,
     "metadata": {},
     "output_type": "execute_result"
    }
   ],
   "source": [
    "create_grid()"
   ]
  },
  {
   "cell_type": "code",
   "execution_count": 25,
   "metadata": {},
   "outputs": [
    {
     "data": {
      "text/plain": [
       "array([ 2.        ,  6.36363636, 10.72727273, 15.09090909, 19.45454545,\n",
       "       23.81818182, 28.18181818, 32.54545455, 36.90909091, 41.27272727,\n",
       "       45.63636364, 50.        ])"
      ]
     },
     "execution_count": 25,
     "metadata": {},
     "output_type": "execute_result"
    }
   ],
   "source": [
    "asd[2]"
   ]
  },
  {
   "cell_type": "code",
   "execution_count": 26,
   "metadata": {},
   "outputs": [],
   "source": [
    "def func2(x: np.ndarray):\n",
    "    return -np.sin(0.5 * (x[0]**2) + - 0.25 * (x[1]**2) + 3) * np.cos(2*x[0] + 1 - np.exp(x[1]))"
   ]
  },
  {
   "cell_type": "code",
   "execution_count": 27,
   "metadata": {},
   "outputs": [],
   "source": [
    "def grid_of_funceval(value_grid: np.ndarray,\n",
    "                      func) -> np.ndarray:\n",
    "    \"\"\" только для пространсва D=2, для любой сетки в том числе и неравномерной\"\"\"\n",
    "    idk = np.max(np.array([np.shape(value_grid[0])[0],np.shape(value_grid[1])[0]]))\n",
    "    grid = np.full((idk,idk), np.inf)\n",
    "    for i in range(np.shape(value_grid[0])[0]):\n",
    "        for k in range(np.shape(value_grid[1])[0]):\n",
    "            # grid[i,k] = func(value_grid[np.arange(0, np.shape(value_grid)[0]), qq])\n",
    "            grid[i,k] = func(np.array([(value_grid[0])[i],(value_grid[1])[k]]))\n",
    "    return grid"
   ]
  },
  {
   "cell_type": "code",
   "execution_count": 28,
   "metadata": {},
   "outputs": [],
   "source": [
    "asd = create_grid()"
   ]
  },
  {
   "cell_type": "code",
   "execution_count": 29,
   "metadata": {},
   "outputs": [
    {
     "data": {
      "text/plain": [
       "10"
      ]
     },
     "execution_count": 29,
     "metadata": {},
     "output_type": "execute_result"
    }
   ],
   "source": [
    "np.shape(asd[0])[0]"
   ]
  },
  {
   "cell_type": "code",
   "execution_count": 30,
   "metadata": {},
   "outputs": [],
   "source": [
    "grid = grid_of_funceval(asd, func2)"
   ]
  },
  {
   "cell_type": "code",
   "execution_count": 31,
   "metadata": {},
   "outputs": [
    {
     "data": {
      "text/plain": [
       "array([array([ 1.,  2.,  3.,  4.,  5.,  6.,  7.,  8.,  9., 10.]),\n",
       "       array([ 1.        ,  1.64285714,  2.28571429,  2.92857143,  3.57142857,\n",
       "               4.21428571,  4.85714286,  5.5       ,  6.14285714,  6.78571429,\n",
       "               7.42857143,  8.07142857,  8.71428571,  9.35714286, 10.        ])],\n",
       "      dtype=object)"
      ]
     },
     "execution_count": 31,
     "metadata": {},
     "output_type": "execute_result"
    }
   ],
   "source": [
    "asd"
   ]
  },
  {
   "cell_type": "code",
   "execution_count": 32,
   "metadata": {},
   "outputs": [
    {
     "data": {
      "text/plain": [
       "0.0485142035921649"
      ]
     },
     "execution_count": 32,
     "metadata": {},
     "output_type": "execute_result"
    }
   ],
   "source": [
    "grid[9,14]"
   ]
  },
  {
   "cell_type": "code",
   "execution_count": 33,
   "metadata": {},
   "outputs": [
    {
     "data": {
      "text/plain": [
       "0.10392999507424829"
      ]
     },
     "execution_count": 33,
     "metadata": {},
     "output_type": "execute_result"
    }
   ],
   "source": [
    "func2([1,1])"
   ]
  },
  {
   "cell_type": "code",
   "execution_count": 34,
   "metadata": {},
   "outputs": [
    {
     "data": {
      "text/plain": [
       "(15, 15)"
      ]
     },
     "execution_count": 34,
     "metadata": {},
     "output_type": "execute_result"
    }
   ],
   "source": [
    "grid.shape"
   ]
  },
  {
   "cell_type": "code",
   "execution_count": 35,
   "metadata": {},
   "outputs": [],
   "source": [
    "def min_of_function(grid: np.ndarray) -> np.ndarray:\n",
    "    return [np.where(grid == np.min(grid))[0][0],np.where(grid == np.min(grid))[1][0]],np.min(grid)"
   ]
  },
  {
   "cell_type": "code",
   "execution_count": 36,
   "metadata": {},
   "outputs": [
    {
     "data": {
      "text/plain": [
       "([5, 11], -0.9990248207756316)"
      ]
     },
     "execution_count": 36,
     "metadata": {},
     "output_type": "execute_result"
    }
   ],
   "source": [
    "min_of_function(grid)"
   ]
  },
  {
   "cell_type": "code",
   "execution_count": 37,
   "metadata": {},
   "outputs": [
    {
     "data": {
      "text/plain": [
       "5"
      ]
     },
     "execution_count": 37,
     "metadata": {},
     "output_type": "execute_result"
    }
   ],
   "source": [
    "np.where(grid == np.min(grid))[0][0]"
   ]
  },
  {
   "cell_type": "code",
   "execution_count": 39,
   "metadata": {},
   "outputs": [],
   "source": [
    "asd = create_grid()"
   ]
  },
  {
   "cell_type": "code",
   "execution_count": 40,
   "metadata": {},
   "outputs": [
    {
     "data": {
      "text/plain": [
       "array([array([ 1.,  2.,  3.,  4.,  5.,  6.,  7.,  8.,  9., 10.]),\n",
       "       array([ 1.        ,  1.64285714,  2.28571429,  2.92857143,  3.57142857,\n",
       "               4.21428571,  4.85714286,  5.5       ,  6.14285714,  6.78571429,\n",
       "               7.42857143,  8.07142857,  8.71428571,  9.35714286, 10.        ])],\n",
       "      dtype=object)"
      ]
     },
     "execution_count": 40,
     "metadata": {},
     "output_type": "execute_result"
    }
   ],
   "source": [
    "asd"
   ]
  },
  {
   "cell_type": "code",
   "execution_count": 42,
   "metadata": {},
   "outputs": [],
   "source": [
    "def start_solve(value_grid: np.ndarray) -> np.ndarray:\n",
    "    a = np.array([])\n",
    "    index1 = np.array([],dtype=int)\n",
    "    for i in range(np.shape(value_grid)[0]):\n",
    "        index = np.random.randint(np.shape(value_grid[i])[0])\n",
    "        a = np.append(a,(value_grid[i])[index])\n",
    "        index1 = np.append(index1,index)\n",
    "    return a, index1"
   ]
  },
  {
   "cell_type": "code",
   "execution_count": 45,
   "metadata": {},
   "outputs": [],
   "source": [
    "a,a1 = start_solve(asd)"
   ]
  },
  {
   "cell_type": "code",
   "execution_count": 46,
   "metadata": {},
   "outputs": [
    {
     "data": {
      "text/plain": [
       "array([7.        , 4.21428571])"
      ]
     },
     "execution_count": 46,
     "metadata": {},
     "output_type": "execute_result"
    }
   ],
   "source": [
    "a"
   ]
  },
  {
   "cell_type": "code",
   "execution_count": 47,
   "metadata": {},
   "outputs": [
    {
     "data": {
      "text/plain": [
       "array([6, 5])"
      ]
     },
     "execution_count": 47,
     "metadata": {},
     "output_type": "execute_result"
    }
   ],
   "source": [
    "a1"
   ]
  },
  {
   "cell_type": "code",
   "execution_count": 48,
   "metadata": {},
   "outputs": [],
   "source": [
    "def new_point_boltzman(bounds: np.ndarray,\n",
    "                        value_grid: np.ndarray,\n",
    "                        temperature: float,\n",
    "                        index: np.ndarray) -> np.ndarray:\n",
    "    std = np.sqrt(temperature) * np.ones(np.shape(bounds)[0])\n",
    "    xc = np.random.normal(0, 1.0, size =  np.shape(bounds)[0])\n",
    "    new_solve_index = index + xc * std\n",
    "    new_solve = np.copy(new_solve_index)\n",
    "    for i in range(np.shape(bounds)[0]):\n",
    "        new_solve_index[i] = round(index[i] + xc[i] * std[i] * (np.shape((value_grid[i]))[0] - 1))\n",
    "        while  new_solve_index[i] < 0 or  new_solve_index[i] > (np.shape((value_grid[i]))[0] - 1):\n",
    "            xc[i] = np.random.normal(0, 1.0)\n",
    "            new_solve_index[i] = round(index[i] + xc[i] * std[i] * (np.shape((value_grid[i]))[0] - 1))\n",
    "    for i in range(np.shape(bounds)[0]):\n",
    "        new_solve[i] = (value_grid[i])[new_solve_index.astype(int)[i]]\n",
    "    return new_solve, new_solve_index.astype(int)"
   ]
  },
  {
   "cell_type": "code",
   "execution_count": 53,
   "metadata": {},
   "outputs": [
    {
     "data": {
      "text/plain": [
       "(array([7.        , 7.42857143]), array([ 6, 10]))"
      ]
     },
     "execution_count": 53,
     "metadata": {},
     "output_type": "execute_result"
    }
   ],
   "source": [
    "new_point_boltzman(np.array([[1, 10], [1, 10]]),asd,10,a1)"
   ]
  },
  {
   "cell_type": "code",
   "execution_count": 52,
   "metadata": {},
   "outputs": [
    {
     "data": {
      "text/plain": [
       "array([array([ 1.,  2.,  3.,  4.,  5.,  6.,  7.,  8.,  9., 10.]),\n",
       "       array([ 1.        ,  1.64285714,  2.28571429,  2.92857143,  3.57142857,\n",
       "               4.21428571,  4.85714286,  5.5       ,  6.14285714,  6.78571429,\n",
       "               7.42857143,  8.07142857,  8.71428571,  9.35714286, 10.        ])],\n",
       "      dtype=object)"
      ]
     },
     "execution_count": 52,
     "metadata": {},
     "output_type": "execute_result"
    }
   ],
   "source": [
    "asd"
   ]
  },
  {
   "cell_type": "code",
   "execution_count": 54,
   "metadata": {},
   "outputs": [],
   "source": [
    "asd = create_grid(np.array([[1, 10], [1, 10],[2, 50],[3, 60]]),np.array([10,15,12,13]))"
   ]
  },
  {
   "cell_type": "code",
   "execution_count": 55,
   "metadata": {},
   "outputs": [
    {
     "data": {
      "text/plain": [
       "array([array([ 1.,  2.,  3.,  4.,  5.,  6.,  7.,  8.,  9., 10.]),\n",
       "       array([ 1.        ,  1.64285714,  2.28571429,  2.92857143,  3.57142857,\n",
       "               4.21428571,  4.85714286,  5.5       ,  6.14285714,  6.78571429,\n",
       "               7.42857143,  8.07142857,  8.71428571,  9.35714286, 10.        ]),\n",
       "       array([ 2.        ,  6.36363636, 10.72727273, 15.09090909, 19.45454545,\n",
       "              23.81818182, 28.18181818, 32.54545455, 36.90909091, 41.27272727,\n",
       "              45.63636364, 50.        ])                                      ,\n",
       "       array([ 3.  ,  7.75, 12.5 , 17.25, 22.  , 26.75, 31.5 , 36.25, 41.  ,\n",
       "              45.75, 50.5 , 55.25, 60.  ])                                  ],\n",
       "      dtype=object)"
      ]
     },
     "execution_count": 55,
     "metadata": {},
     "output_type": "execute_result"
    }
   ],
   "source": [
    "asd"
   ]
  },
  {
   "cell_type": "code",
   "execution_count": 56,
   "metadata": {},
   "outputs": [],
   "source": [
    "solve1, index1 = start_solve(asd)"
   ]
  },
  {
   "cell_type": "code",
   "execution_count": 57,
   "metadata": {},
   "outputs": [
    {
     "data": {
      "text/plain": [
       "array([ 5.        ,  7.42857143, 28.18181818, 26.75      ])"
      ]
     },
     "execution_count": 57,
     "metadata": {},
     "output_type": "execute_result"
    }
   ],
   "source": [
    "solve1"
   ]
  },
  {
   "cell_type": "code",
   "execution_count": 58,
   "metadata": {},
   "outputs": [
    {
     "data": {
      "text/plain": [
       "array([ 4, 10,  6,  5])"
      ]
     },
     "execution_count": 58,
     "metadata": {},
     "output_type": "execute_result"
    }
   ],
   "source": [
    "index1"
   ]
  },
  {
   "cell_type": "code",
   "execution_count": 60,
   "metadata": {},
   "outputs": [],
   "source": [
    "grid_of_values = np.full(shape = np.array([10,15,12,13]), fill_value = np.NAN)"
   ]
  },
  {
   "cell_type": "code",
   "execution_count": 63,
   "metadata": {},
   "outputs": [
    {
     "data": {
      "text/plain": [
       "(10, 15, 12, 13)"
      ]
     },
     "execution_count": 63,
     "metadata": {},
     "output_type": "execute_result"
    }
   ],
   "source": [
    "np.shape(grid_of_values)"
   ]
  },
  {
   "cell_type": "code",
   "execution_count": 64,
   "metadata": {},
   "outputs": [
    {
     "data": {
      "text/plain": [
       "nan"
      ]
     },
     "execution_count": 64,
     "metadata": {},
     "output_type": "execute_result"
    }
   ],
   "source": [
    "grid_of_values[1,2,3,4]"
   ]
  },
  {
   "cell_type": "code",
   "execution_count": 65,
   "metadata": {},
   "outputs": [
    {
     "data": {
      "text/plain": [
       "nan"
      ]
     },
     "execution_count": 65,
     "metadata": {},
     "output_type": "execute_result"
    }
   ],
   "source": [
    "grid_of_values[tuple(index1)]"
   ]
  },
  {
   "cell_type": "code",
   "execution_count": 66,
   "metadata": {},
   "outputs": [],
   "source": [
    "solve3, index3 = new_point_boltzman(np.array([[1, 10], [1, 10],[2, 50],[3, 60]]), asd, 100,  index1)"
   ]
  },
  {
   "cell_type": "code",
   "execution_count": 67,
   "metadata": {},
   "outputs": [
    {
     "data": {
      "text/plain": [
       "array([ 6.        ,  3.57142857, 15.09090909, 41.        ])"
      ]
     },
     "execution_count": 67,
     "metadata": {},
     "output_type": "execute_result"
    }
   ],
   "source": [
    "solve3"
   ]
  },
  {
   "cell_type": "code",
   "execution_count": 68,
   "metadata": {},
   "outputs": [
    {
     "data": {
      "text/plain": [
       "array([5, 4, 3, 8])"
      ]
     },
     "execution_count": 68,
     "metadata": {},
     "output_type": "execute_result"
    }
   ],
   "source": [
    "index3"
   ]
  },
  {
   "cell_type": "code",
   "execution_count": 84,
   "metadata": {},
   "outputs": [],
   "source": [
    "def func2(x: np.ndarray):\n",
    "    return -np.sin(0.5 * (x[0]**2) + - 0.25 * (x[1]**2) + 3) * np.cos(2*x[0] + 1 - np.exp(x[1]))"
   ]
  },
  {
   "cell_type": "code",
   "execution_count": 114,
   "metadata": {},
   "outputs": [],
   "source": [
    "lw = [9] * 2\n",
    "up = [10] * 2\n",
    "bounds=list(zip(lw, up))"
   ]
  },
  {
   "cell_type": "code",
   "execution_count": 115,
   "metadata": {},
   "outputs": [],
   "source": [
    "ret = dual_annealing(func2,bounds=np.array([[9, 10], [9, 10]]))"
   ]
  },
  {
   "cell_type": "code",
   "execution_count": 116,
   "metadata": {},
   "outputs": [
    {
     "data": {
      "text/plain": [
       "[(9, 10), (9, 10)]"
      ]
     },
     "execution_count": 116,
     "metadata": {},
     "output_type": "execute_result"
    }
   ],
   "source": [
    "bounds"
   ]
  },
  {
   "cell_type": "code",
   "execution_count": 117,
   "metadata": {},
   "outputs": [
    {
     "data": {
      "text/plain": [
       " message: ['Maximum number of iteration reached']\n",
       " success: True\n",
       "  status: 0\n",
       "     fun: -0.9999999989253762\n",
       "       x: [ 9.996e+00  9.616e+00]\n",
       "     nit: 1000\n",
       "    nfev: 4139\n",
       "    njev: 46\n",
       "    nhev: 0"
      ]
     },
     "execution_count": 117,
     "metadata": {},
     "output_type": "execute_result"
    }
   ],
   "source": [
    "ret"
   ]
  },
  {
   "cell_type": "code",
   "execution_count": 118,
   "metadata": {},
   "outputs": [
    {
     "data": {
      "text/plain": [
       "-0.9999999989253762"
      ]
     },
     "execution_count": 118,
     "metadata": {},
     "output_type": "execute_result"
    }
   ],
   "source": [
    "ret.fun"
   ]
  },
  {
   "cell_type": "code",
   "execution_count": null,
   "metadata": {},
   "outputs": [],
   "source": []
  }
 ],
 "metadata": {
  "kernelspec": {
   "display_name": "Python 3",
   "language": "python",
   "name": "python3"
  },
  "language_info": {
   "codemirror_mode": {
    "name": "ipython",
    "version": 3
   },
   "file_extension": ".py",
   "mimetype": "text/x-python",
   "name": "python",
   "nbconvert_exporter": "python",
   "pygments_lexer": "ipython3",
   "version": "3.11.4"
  },
  "orig_nbformat": 4
 },
 "nbformat": 4,
 "nbformat_minor": 2
}
